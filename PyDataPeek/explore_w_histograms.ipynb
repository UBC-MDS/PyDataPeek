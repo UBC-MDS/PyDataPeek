{
 "cells": [
  {
   "cell_type": "code",
   "execution_count": 1,
   "metadata": {},
   "outputs": [],
   "source": [
    "import pandas as pd\n",
    "import altair as alt\n",
    "from altair_saver import save\n"
   ]
  },
  {
   "cell_type": "code",
   "execution_count": 37,
   "metadata": {},
   "outputs": [],
   "source": [
    "def explore_w_histograms(dataframe, columns):\n",
    "    \"\"\"\n",
    "    take a list of numerical column names and returns a png file of histogram(s)\n",
    "    \n",
    "    Parameters\n",
    "    --------\n",
    "    coloumns: \n",
    "        a list of numerical column names as strings\n",
    "    dataframe:\n",
    "        a pandas DataFrame that contains the column names \n",
    "    \n",
    "    Returns\n",
    "    -------\n",
    "    .png file(s) of histogram(s)\n",
    "    \n",
    "    Example\n",
    "    -------\n",
    "    >>> explore_w_histograms(['volumn', 'date'])\n",
    "    \"\"\"\n",
    "    \n",
    "    for c in range(0, len(columns)):\n",
    "        chart = alt.Chart(dataframe).mark_bar().encode(\n",
    "            alt.X(columns[c]+':Q', bin = True),\n",
    "            alt.Y('count()')\n",
    "        )\n",
    "#         save(chart, 'chart.png')    \n",
    "        chart.save('chart.png')\n",
    "    "
   ]
  },
  {
   "cell_type": "code",
   "execution_count": 38,
   "metadata": {},
   "outputs": [],
   "source": [
    "data = [['tom', 10], ['nick', 15], ['juli', 14]] \n",
    "  \n",
    "# Create the pandas DataFrame \n",
    "df = pd.DataFrame(data, columns = ['Name', 'Age']) "
   ]
  },
  {
   "cell_type": "code",
   "execution_count": 39,
   "metadata": {},
   "outputs": [],
   "source": [
    "explore_w_histograms(df, columns = ['Age'])"
   ]
  },
  {
   "cell_type": "code",
   "execution_count": null,
   "metadata": {},
   "outputs": [],
   "source": []
  }
 ],
 "metadata": {
  "kernelspec": {
   "display_name": "Python 3",
   "language": "python",
   "name": "python3"
  },
  "language_info": {
   "codemirror_mode": {
    "name": "ipython",
    "version": 3
   },
   "file_extension": ".py",
   "mimetype": "text/x-python",
   "name": "python",
   "nbconvert_exporter": "python",
   "pygments_lexer": "ipython3",
   "version": "3.7.6"
  }
 },
 "nbformat": 4,
 "nbformat_minor": 4
}
